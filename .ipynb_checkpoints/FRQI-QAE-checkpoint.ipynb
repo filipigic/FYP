{
 "cells": [
  {
   "cell_type": "markdown",
   "metadata": {},
   "source": [
    "# FRQI QAE\n",
    "This notebook contains code for the FRQI-QAE Model.\\\n",
    "Inspired by [Romero et al](https://arxiv.org/pdf/1612.02806.pdf) and [Sim et al](https://arxiv.org/pdf/1810.10576.pdf).\\\n",
    "Developed by Filip Igic for his FYP."
   ]
  },
  {
   "cell_type": "code",
   "execution_count": 1,
   "metadata": {},
   "outputs": [],
   "source": [
    "import qiskit as qk\n",
    "from qiskit import QuantumCircuit, Aer, IBMQ\n",
    "from qiskit import transpile, assemble\n",
    "from qiskit.tools.jupyter import *\n",
    "from qiskit.visualization import plot_histogram\n",
    "from math import pi\n",
    "import matplotlib.pyplot as mpl"
   ]
  },
  {
   "cell_type": "code",
   "execution_count": 3,
   "metadata": {
    "collapsed": true,
    "jupyter": {
     "outputs_hidden": true,
     "source_hidden": true
    }
   },
   "outputs": [
    {
     "data": {
      "text/plain": [
       "<matplotlib.image.AxesImage at 0x169ab02ddf0>"
      ]
     },
     "execution_count": 3,
     "metadata": {},
     "output_type": "execute_result"
    },
    {
     "data": {
      "image/png": "[encoded data removed]",
      "text/plain": [
       "<Figure size 432x288 with 1 Axes>"
      ]
     },
     "metadata": {
      "needs_background": "light"
     },
     "output_type": "display_data"
    }
   ],
   "source": [
    "#Tetrominos Dataset\n",
    "straight = [[1, 1, 1], \n",
    "            [0, 0, 0], \n",
    "            [0, 0, 0]]\n",
    "square = [[1, 1, 0], \n",
    "          [1, 1, 0], \n",
    "          [0, 0, 0]]\n",
    "t = [[1, 1, 1], \n",
    "     [0, 1, 0], \n",
    "     [0, 0, 0]]\n",
    "l = [[1, 0, 0], \n",
    "     [1, 0, 0], \n",
    "     [1, 1, 0]]\n",
    "skew = [[0, 1, 1], \n",
    "        [1, 1, 0], \n",
    "        [0, 0, 0]]\n",
    "\n",
    "#2x2 Dataset\n",
    "#left line\n",
    "ll = [[1, 0], [1, 0]]\n",
    "#right line\n",
    "rl = [[0, 1], [0, 1]]\n",
    "#top line\n",
    "tl = [[1, 1], [0, 0]]\n",
    "#bottom line\n",
    "bl = [[0, 0], [1, 1]]\n",
    "#top left pixel\n",
    "tlp = [[1, 0], [0, 0]]\n",
    "#bottom right pixel\n",
    "brp = [[0, 0], [0, 1]]\n",
    "\n",
    "mpl.imshow(brp)"
   ]
  },
  {
   "cell_type": "code",
   "execution_count": 18,
   "metadata": {},
   "outputs": [],
   "source": [
    "def frqi():\n",
    "    on = pi/2 # white pixel\n",
    "    off = 0 # black pixel\n",
    "    qc = QuantumCircuit(3, name='FRQI')\n",
    "    qc.h(0)\n",
    "    qc.h(1)\n",
    "    qc.x(1)\n",
    "    qc.cry(on,0,2)\n",
    "    qc.cx(0,1)\n",
    "    qc.cry(-on,1,2)\n",
    "    qc.cx(0,1)\n",
    "    qc.cry(on,1,2)\n",
    "    qc.x(0)\n",
    "    qc.x(1)\n",
    "    qc.x(0)\n",
    "    qc.cry(on,0,2)\n",
    "    qc.cx(0,1)\n",
    "    qc.cry(-on,1,2)\n",
    "    qc.cx(0,1)\n",
    "    qc.cry(on,1,2)\n",
    "    return qc\n",
    "\n",
    "def encode(x):\n",
    "    qc = QuantumCircuit(3, name=\"Encode\")\n",
    "    qc.ry(x[0], 0)\n",
    "    qc.cx(0, 1)\n",
    "    qc.ry(x[1], 1)\n",
    "    qc.cx(0,2)\n",
    "    return qc"
   ]
  },
  {
   "cell_type": "code",
   "execution_count": 3,
   "metadata": {},
   "outputs": [],
   "source": [
    "def f(x):\n",
    "    qc = QuantumCircuit(3)\n",
    "\n",
    "    qc.append(frqi(), qc.qubits[:3])\n",
    "\n",
    "    qc.append(encode(x), qc.qubits[:3])\n",
    "\n",
    "    qc.reset(1)\n",
    "    qc.reset(2)\n",
    "\n",
    "    qc.append(encode(x).inverse(), qc.qubits[:3])\n",
    "\n",
    "    qc.append(frqi().inverse(), qc.qubits[:3])\n",
    "\n",
    "    qc.measure_all()\n",
    "    \n",
    "    qasm_sim = Aer.get_backend('qasm_simulator')\n",
    "    t_qc = transpile(qc, qasm_sim)\n",
    "    qobj = assemble(t_qc, shots=4096)\n",
    "    result = qasm_sim.run(qobj).result()\n",
    "    counts = result.get_counts(qc)\n",
    "    \n",
    "    if '000' in counts:\n",
    "        loss = counts['000']/4096\n",
    "    else:\n",
    "        loss = 0\n",
    "    loss *= -1\n",
    "    history.append(loss)\n",
    "    return loss"
   ]
  },
  {
   "cell_type": "code",
   "execution_count": 24,
   "metadata": {},
   "outputs": [
    {
     "name": "stdout",
     "output_type": "stream",
     "text": [
      "Optimal parameters: [6.28318531 4.72582493], Loss: -1.0\n"
     ]
    },
    {
     "data": {
      "image/png": "[encoded data removed]",
      "text/plain": [
       "<Figure size 432x288 with 1 Axes>"
      ]
     },
     "metadata": {
      "needs_background": "light"
     },
     "output_type": "display_data"
    }
   ],
   "source": [
    "import scipy.optimize as sp\n",
    "\n",
    "history=[] #history of losses through training\n",
    "\n",
    "result = sp.minimize(f, [pi, pi], method='COBYLA', constraints={'type': 'ineq', 'fun': lambda x: 2. * pi - x})\n",
    "\n",
    "op=result.x #optimal parameters\n",
    "print(f'Optimal parameters: {op}, Loss: {result.fun}')\n",
    "\n",
    "fig = mpl.figure(figsize=(6, 4))\n",
    "mpl.plot(history, 'ko-', markersize=4, linewidth=1)\n",
    "mpl.title(\"Training Loss\", fontsize=16)\n",
    "mpl.xlabel(\"Function Evaluation\",fontsize=20)\n",
    "mpl.ylabel(\"Loss Value\", fontsize=20)\n",
    "mpl.xticks(fontsize=16)\n",
    "mpl.yticks(fontsize=16)\n",
    "mpl.show()"
   ]
  },
  {
   "cell_type": "markdown",
   "metadata": {},
   "source": [
    "## Testing\n",
    "Based on the optimal parameters found above, I will test them to see the quality of the image."
   ]
  },
  {
   "cell_type": "code",
   "execution_count": 20,
   "metadata": {},
   "outputs": [
    {
     "data": {
      "image/png": "[encoded data removed]",
      "text/plain": [
       "<Figure size 779.079x264.88 with 1 Axes>"
      ]
     },
     "execution_count": 20,
     "metadata": {},
     "output_type": "execute_result"
    }
   ],
   "source": [
    "qc = QuantumCircuit(3)\n",
    "\n",
    "qc.append(frqi(), qc.qubits[:3])\n",
    "\n",
    "qc.append(encode(op), qc.qubits[:3])\n",
    "\n",
    "qc.reset(1)\n",
    "qc.reset(2)\n",
    "\n",
    "qc.append(encode(op).inverse(), qc.qubits[:3])\n",
    "\n",
    "qc.measure_all()\n",
    "\n",
    "qc.draw('mpl')"
   ]
  },
  {
   "cell_type": "code",
   "execution_count": 21,
   "metadata": {},
   "outputs": [
    {
     "data": {
      "image/png": "[encoded data removed]",
      "text/plain": [
       "<Figure size 504x360 with 1 Axes>"
      ]
     },
     "execution_count": 21,
     "metadata": {},
     "output_type": "execute_result"
    }
   ],
   "source": [
    "qasm_sim = Aer.get_backend('qasm_simulator')\n",
    "t_qc = transpile(qc, qasm_sim)\n",
    "qobj = assemble(t_qc, shots=4096)\n",
    "result = qasm_sim.run(qobj).result()\n",
    "counts = result.get_counts(qc)\n",
    "plot_histogram(counts)"
   ]
  },
  {
   "cell_type": "markdown",
   "metadata": {},
   "source": [
    "## Image Retrieval"
   ]
  },
  {
   "cell_type": "code",
   "execution_count": 22,
   "metadata": {},
   "outputs": [
    {
     "name": "stdout",
     "output_type": "stream",
     "text": [
      "[[0, 1.0], [0, 1.0]]\n"
     ]
    },
    {
     "data": {
      "text/plain": [
       "<matplotlib.image.AxesImage at 0x1dcaaaf5a60>"
      ]
     },
     "execution_count": 22,
     "metadata": {},
     "output_type": "execute_result"
    },
    {
     "data": {
      "image/png": "[encoded data removed]",
      "text/plain": [
       "<Figure size 432x288 with 1 Axes>"
      ]
     },
     "metadata": {
      "needs_background": "light"
     },
     "output_type": "display_data"
    }
   ],
   "source": [
    "image=[[0, 0], [0, 0]]\n",
    "count_sum=[[0, 0], [0, 0]]\n",
    "for x in counts:\n",
    "    if x[1:] == '00':\n",
    "        count_sum[0][0]+=counts[x]\n",
    "    elif x[1:] == '01':\n",
    "        count_sum[0][1]+=counts[x]\n",
    "    elif x[1:] == '10':\n",
    "        count_sum[1][0]+=counts[x]\n",
    "    elif x[1:] == '11':\n",
    "        count_sum[1][1]+=counts[x]\n",
    "\n",
    "for x in counts:\n",
    "    if x[0] == '1':\n",
    "        image[int(x[1])][int(x[2])]=counts[x]/count_sum[int(x[1])][int(x[2])]\n",
    "        \n",
    "print(image)\n",
    "mpl.imshow(image, cmap='gray')"
   ]
  },
  {
   "cell_type": "code",
   "execution_count": null,
   "metadata": {},
   "outputs": [],
   "source": []
  }
 ],
 "metadata": {
  "kernelspec": {
   "display_name": "Python 3",
   "language": "python",
   "name": "python3"
  },
  "language_info": {
   "codemirror_mode": {
    "name": "ipython",
    "version": 3
   },
   "file_extension": ".py",
   "mimetype": "text/x-python",
   "name": "python",
   "nbconvert_exporter": "python",
   "pygments_lexer": "ipython3",
   "version": "3.8.5"
  }
 },
 "nbformat": 4,
 "nbformat_minor": 4
}
