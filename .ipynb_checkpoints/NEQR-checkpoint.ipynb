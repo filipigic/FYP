{
 "cells": [
  {
   "cell_type": "code",
   "execution_count": 2,
   "metadata": {},
   "outputs": [],
   "source": [
    "import qiskit as qk\n",
    "from qiskit import QuantumCircuit, Aer, IBMQ\n",
    "from qiskit import transpile, assemble\n",
    "from qiskit.tools.jupyter import *\n",
    "from qiskit.visualization import plot_histogram\n",
    "from math import pi\n",
    "import matplotlib.pyplot as mpl"
   ]
  },
  {
   "cell_type": "code",
   "execution_count": 1,
   "metadata": {
    "jupyter": {
     "source_hidden": true
    }
   },
   "outputs": [],
   "source": [
    "#Tetrominos Dataset\n",
    "straight = [[1, 1, 1], \n",
    "            [0, 0, 0], \n",
    "            [0, 0, 0]]\n",
    "square = [[1, 1, 0], \n",
    "          [1, 1, 0], \n",
    "          [0, 0, 0]]\n",
    "t = [[1, 1, 1], \n",
    "     [0, 1, 0], \n",
    "     [0, 0, 0]]\n",
    "l = [[1, 0, 0], \n",
    "     [1, 0, 0], \n",
    "     [1, 1, 0]]\n",
    "skew = [[0, 1, 1], \n",
    "        [1, 1, 0], \n",
    "        [0, 0, 0]]\n",
    "\n",
    "#2x2 Dataset\n",
    "#left line\n",
    "ll = [[1, 0], [1, 0]]\n",
    "#right line\n",
    "rl = [[0, 1], [0, 1]]\n",
    "#top line\n",
    "tl = [[1, 1], [0, 0]]\n",
    "#bottom line\n",
    "bl = [[0, 0], [1, 1]]\n",
    "#top left pixel\n",
    "tlp = [[1, 0], [0, 0]]\n",
    "#bottom right pixel\n",
    "brp = [[0, 0], [0, 1]]"
   ]
  },
  {
   "cell_type": "code",
   "execution_count": 21,
   "metadata": {},
   "outputs": [
    {
     "data": {
      "image/png": "[encoded data removed]",
      "text/plain": [
       "<Figure size 718.879x264.88 with 1 Axes>"
      ]
     },
     "execution_count": 21,
     "metadata": {},
     "output_type": "execute_result"
    }
   ],
   "source": [
    "qc = QuantumCircuit(3)\n",
    "\n",
    "qc.h(0)\n",
    "qc.h(1)\n",
    "\n",
    "qc.x(0)\n",
    "#qc.x(1)\n",
    "#qc.ccx(0, 1, 2)\n",
    "#qc.x(0)\n",
    "#qc.x(1)\n",
    "\n",
    "qc.x(1)\n",
    "qc.ccx(0, 1, 2)\n",
    "\n",
    "qc.x(1)\n",
    "qc.x(0)\n",
    "#qc.ccx(0, 1, 2)\n",
    "\n",
    "qc.x(1)\n",
    "qc.ccx(0, 1, 2)\n",
    "\n",
    "\n",
    "qc.measure_all()\n",
    "\n",
    "qc.draw('mpl')"
   ]
  },
  {
   "cell_type": "code",
   "execution_count": 22,
   "metadata": {},
   "outputs": [
    {
     "name": "stdout",
     "output_type": "stream",
     "text": [
      "{'000': 1043, '001': 993, '110': 1033, '111': 1027}\n"
     ]
    },
    {
     "data": {
      "image/png": "[encoded data removed]",
      "text/plain": [
       "<Figure size 504x360 with 1 Axes>"
      ]
     },
     "execution_count": 22,
     "metadata": {},
     "output_type": "execute_result"
    }
   ],
   "source": [
    "qasm_sim = Aer.get_backend('qasm_simulator')\n",
    "t_qc = transpile(qc, qasm_sim)\n",
    "qobj = assemble(t_qc, shots=4096)\n",
    "result = qasm_sim.run(qobj).result()\n",
    "counts = result.get_counts(qc)\n",
    "print(counts)\n",
    "plot_histogram(counts)"
   ]
  },
  {
   "cell_type": "code",
   "execution_count": 23,
   "metadata": {},
   "outputs": [
    {
     "data": {
      "text/plain": [
       "<matplotlib.image.AxesImage at 0x20e2b728790>"
      ]
     },
     "execution_count": 23,
     "metadata": {},
     "output_type": "execute_result"
    },
    {
     "data": {
      "image/png": "[encoded data removed]",
      "text/plain": [
       "<Figure size 432x288 with 1 Axes>"
      ]
     },
     "metadata": {
      "needs_background": "light"
     },
     "output_type": "display_data"
    }
   ],
   "source": [
    "image=[[0, 0], [0, 0]]\n",
    "values=[[0, 0], [0, 0]]\n",
    "for x in counts:\n",
    "    if x[1:] == '00':\n",
    "        if counts[x] > values[0][0]:\n",
    "            values[0][0]=counts[x]\n",
    "            image[0][0]=int(x[0])\n",
    "    elif x[1:] == '01':\n",
    "        if counts[x] > values[0][1]:\n",
    "            values[0][1]=counts[x]\n",
    "            image[0][1]=int(x[0])\n",
    "    elif x[1:] == '10':\n",
    "        if counts[x] > values[1][0]:\n",
    "            values[1][0]=counts[x]\n",
    "            image[1][0]=int(x[0])\n",
    "    elif x[1:] == '11':\n",
    "        if counts[x] > values[1][1]:\n",
    "            values[1][1]=counts[x]\n",
    "            image[1][1]=int(x[0])\n",
    "mpl.imshow(image, cmap=\"gray\")"
   ]
  },
  {
   "cell_type": "code",
   "execution_count": null,
   "metadata": {},
   "outputs": [],
   "source": []
  }
 ],
 "metadata": {
  "kernelspec": {
   "display_name": "Python 3",
   "language": "python",
   "name": "python3"
  },
  "language_info": {
   "codemirror_mode": {
    "name": "ipython",
    "version": 3
   },
   "file_extension": ".py",
   "mimetype": "text/x-python",
   "name": "python",
   "nbconvert_exporter": "python",
   "pygments_lexer": "ipython3",
   "version": "3.8.5"
  }
 },
 "nbformat": 4,
 "nbformat_minor": 4
}
